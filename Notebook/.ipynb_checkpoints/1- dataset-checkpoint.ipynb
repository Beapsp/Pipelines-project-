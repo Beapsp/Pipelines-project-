{
 "cells": [
  {
   "cell_type": "code",
   "execution_count": null,
   "id": "bf8c76ff",
   "metadata": {
    "scrolled": true
   },
   "outputs": [],
   "source": [
    "import requests \n",
    "import json\n",
    "import os\n",
    "from dotenv import load_dotenv\n",
    "import pandas as pd\n",
    "from pandas import json_normalize\n",
    "import sys\n",
    "sys.path.append('../')\n",
    "import src.cleaning_functions as cf"
   ]
  },
  {
   "cell_type": "code",
   "execution_count": null,
   "id": "4a96bbe8",
   "metadata": {},
   "outputs": [],
   "source": [
    "load_dotenv()"
   ]
  },
  {
   "cell_type": "code",
   "execution_count": null,
   "id": "9ac84a14",
   "metadata": {},
   "outputs": [],
   "source": [
    "!pip3 install python-dotenv"
   ]
  },
  {
   "cell_type": "code",
   "execution_count": null,
   "id": "2b9b260a",
   "metadata": {},
   "outputs": [],
   "source": [
    "pd.set_option('display.max_columns', None) #con este parámetro puedo ver TODAS las columnas de un df."
   ]
  },
  {
   "cell_type": "markdown",
   "id": "232530ad",
   "metadata": {},
   "source": [
    "### 1. Importo mi dataframe"
   ]
  },
  {
   "cell_type": "code",
   "execution_count": null,
   "id": "93ce4029",
   "metadata": {},
   "outputs": [],
   "source": [
    "df= pd.read_csv(\"../data/Food and Calories.csv\")"
   ]
  },
  {
   "cell_type": "code",
   "execution_count": null,
   "id": "cf441ba6",
   "metadata": {},
   "outputs": [],
   "source": [
    "df.head()"
   ]
  },
  {
   "cell_type": "markdown",
   "id": "9b173255",
   "metadata": {},
   "source": [
    "### Limpio mi data frame eliminando nulos y duplicados"
   ]
  },
  {
   "cell_type": "code",
   "execution_count": null,
   "id": "47e125d7",
   "metadata": {},
   "outputs": [],
   "source": [
    "df.shape"
   ]
  },
  {
   "cell_type": "code",
   "execution_count": null,
   "id": "a9534695",
   "metadata": {},
   "outputs": [],
   "source": [
    "df.dropna(how=\"all\", inplace=True)"
   ]
  },
  {
   "cell_type": "code",
   "execution_count": null,
   "id": "531f4834",
   "metadata": {},
   "outputs": [],
   "source": [
    "df.shape #no hay ninguna fila entera de NaN"
   ]
  },
  {
   "cell_type": "code",
   "execution_count": null,
   "id": "131a0420",
   "metadata": {},
   "outputs": [],
   "source": [
    "duplicates= df.drop_duplicates() #elimino los duplicados"
   ]
  },
  {
   "cell_type": "code",
   "execution_count": null,
   "id": "e76e6b37",
   "metadata": {},
   "outputs": [],
   "source": [
    "duplicates.shape"
   ]
  },
  {
   "cell_type": "code",
   "execution_count": null,
   "id": "3e52944c",
   "metadata": {},
   "outputs": [],
   "source": [
    "food = duplicates[\"Food\"].unique()"
   ]
  },
  {
   "cell_type": "markdown",
   "id": "a060e7ea",
   "metadata": {},
   "source": [
    "### Obtengo una lista con los valores únicos de la columna Food que serán los valores de mi dataframe que utilizaré con la información de la API con la que trabaje a continuación"
   ]
  },
  {
   "cell_type": "code",
   "execution_count": null,
   "id": "44447c81",
   "metadata": {},
   "outputs": [],
   "source": [
    "lista_food= list(food)"
   ]
  },
  {
   "cell_type": "code",
   "execution_count": null,
   "id": "78373d5e",
   "metadata": {},
   "outputs": [],
   "source": [
    "type(lista_food)"
   ]
  },
  {
   "cell_type": "code",
   "execution_count": null,
   "id": "96e6c7c6",
   "metadata": {},
   "outputs": [],
   "source": [
    "lista_food"
   ]
  },
  {
   "cell_type": "code",
   "execution_count": null,
   "id": "24a555da",
   "metadata": {},
   "outputs": [],
   "source": [
    "type(lista_food)"
   ]
  },
  {
   "cell_type": "code",
   "execution_count": null,
   "id": "1624ab4b",
   "metadata": {},
   "outputs": [],
   "source": [
    "len(lista_food)"
   ]
  },
  {
   "cell_type": "markdown",
   "id": "65f771ff",
   "metadata": {},
   "source": [
    "### A continuación voy a aplicar la función para la lista completa de alimentos de mi dataframe"
   ]
  },
  {
   "cell_type": "code",
   "execution_count": null,
   "id": "b0cb2b3c",
   "metadata": {},
   "outputs": [],
   "source": [
    "api_id = os.getenv(\"app_id\")\n",
    "app_key = os.getenv(\"app_key\")"
   ]
  },
  {
   "cell_type": "code",
   "execution_count": null,
   "id": "c4ce1245",
   "metadata": {},
   "outputs": [],
   "source": [
    "prueba2 = cf.call_api(api_id,app_key,lista_food)"
   ]
  },
  {
   "cell_type": "code",
   "execution_count": null,
   "id": "ce545275",
   "metadata": {},
   "outputs": [],
   "source": [
    "prueba2"
   ]
  },
  {
   "cell_type": "code",
   "execution_count": null,
   "id": "244e3b83",
   "metadata": {},
   "outputs": [],
   "source": [
    "len(prueba2)"
   ]
  },
  {
   "cell_type": "markdown",
   "id": "431ec424",
   "metadata": {},
   "source": [
    "### Consigo un dataframe de la información que me ofrece la API"
   ]
  },
  {
   "cell_type": "code",
   "execution_count": null,
   "id": "9b8fe200",
   "metadata": {},
   "outputs": [],
   "source": [
    "df_api = json_normalize(prueba2)"
   ]
  },
  {
   "cell_type": "code",
   "execution_count": null,
   "id": "634ebbe2",
   "metadata": {},
   "outputs": [],
   "source": [
    "df_api.head()"
   ]
  },
  {
   "cell_type": "code",
   "execution_count": null,
   "id": "3309fefe",
   "metadata": {},
   "outputs": [],
   "source": [
    "df_api.shape"
   ]
  },
  {
   "cell_type": "markdown",
   "id": "d1f8b513",
   "metadata": {},
   "source": [
    "### Voy a limpiar el dataframe obtenido de la API, para ello creo un dataframe nuevo con las columnas que me van a dar información relevante, además incluyo la columna de ingredientes de mi dataframe inicial."
   ]
  },
  {
   "cell_type": "code",
   "execution_count": null,
   "id": "00ec15bd",
   "metadata": {},
   "outputs": [],
   "source": [
    "df_clean = df_api[[\"dietLabels\",\"healthLabels\",\"cautions\",\"totalNutrients.FAT.quantity\",\"totalNutrients.SUGAR.quantity\",\"totalNutrients.PROCNT.quantity\",\"totalNutrients.CHOLE.quantity\",\"totalNutrients.CA.quantity\",\"totalNutrients.VITC.quantity\",\"totalNutrients.WATER.quantity\",\"totalNutrients.SUGAR.added.quantity\"]]\n",
    "df_clean[\"Ingredient\"] = lista_food"
   ]
  },
  {
   "cell_type": "code",
   "execution_count": null,
   "id": "e495526d",
   "metadata": {},
   "outputs": [],
   "source": [
    "df_clean.head()"
   ]
  },
  {
   "cell_type": "code",
   "execution_count": null,
   "id": "8c74f031",
   "metadata": {},
   "outputs": [],
   "source": [
    "rename = {\"totalNutrients.FAT.quantity\": \"FAT.Total lipid\",\"totalNutrients.SUGAR.quantity\":\"Total SUGAR(g)\",\"totalNutrients.PROCNT.quantity\":\"Total PROTEIN(g)\",\"totalNutrients.CHOLE.quantity\":\"Cholesterol(mg)\",\"totalNutrients.CA.quantity\":\"Calcium(mg)\",\"totalNutrients.VITC.quantity\":\"VIT C(mg)\",\"totalNutrients.WATER.quantity\":\"Whater quantity\",\"totalNutrients.SUGAR.added.quantity\":\"Sugar added\"}"
   ]
  },
  {
   "cell_type": "code",
   "execution_count": null,
   "id": "1ff32d60",
   "metadata": {},
   "outputs": [],
   "source": [
    "df_clean.rename(columns=rename, inplace=True)"
   ]
  },
  {
   "cell_type": "code",
   "execution_count": null,
   "id": "c1964dfb",
   "metadata": {},
   "outputs": [],
   "source": [
    "df_clean"
   ]
  },
  {
   "cell_type": "code",
   "execution_count": null,
   "id": "a245a7c5",
   "metadata": {},
   "outputs": [],
   "source": [
    "df_clean[\"healthLabels\"][1]"
   ]
  },
  {
   "cell_type": "code",
   "execution_count": null,
   "id": "bc1ebbc6",
   "metadata": {},
   "outputs": [],
   "source": [
    "mergeado = df_clean.merge(duplicates, how=\"left\", left_on = \"Ingredient\", right_on=\"Food\")"
   ]
  },
  {
   "cell_type": "code",
   "execution_count": null,
   "id": "c09bf78b",
   "metadata": {},
   "outputs": [],
   "source": [
    "mergeado.head()"
   ]
  },
  {
   "cell_type": "code",
   "execution_count": null,
   "id": "5d9db83e",
   "metadata": {},
   "outputs": [],
   "source": [
    "mergeado.drop(columns=[\"Ingredient\"], inplace=True)"
   ]
  },
  {
   "cell_type": "code",
   "execution_count": null,
   "id": "ce18618e",
   "metadata": {},
   "outputs": [],
   "source": [
    "mergeado.head()"
   ]
  },
  {
   "cell_type": "code",
   "execution_count": null,
   "id": "13056f71",
   "metadata": {},
   "outputs": [],
   "source": [
    "mergeado = mergeado.reindex(columns=['Food','Serving','Calories','dietLabels','healthLabels','cautions','FAT.Total lipid','Total SUGAR(g)','Total PROTEIN(g)','Cholesterol(mg)','Calcium(mg)','VIT C(mg)','Whater quantity','Sugar added'])"
   ]
  },
  {
   "cell_type": "code",
   "execution_count": null,
   "id": "353169f3",
   "metadata": {},
   "outputs": [],
   "source": [
    "mergeado"
   ]
  },
  {
   "cell_type": "code",
   "execution_count": null,
   "id": "8f805bb5",
   "metadata": {},
   "outputs": [],
   "source": [
    "mergeado.to_csv(\"../data/Food_enriched.csv\")"
   ]
  }
 ],
 "metadata": {
  "kernelspec": {
   "display_name": "ironhack",
   "language": "python",
   "name": "ironhack"
  },
  "language_info": {
   "codemirror_mode": {
    "name": "ipython",
    "version": 3
   },
   "file_extension": ".py",
   "mimetype": "text/x-python",
   "name": "python",
   "nbconvert_exporter": "python",
   "pygments_lexer": "ipython3",
   "version": "3.8.5"
  }
 },
 "nbformat": 4,
 "nbformat_minor": 5
}
