{
 "cells": [
  {
   "cell_type": "code",
   "execution_count": 1,
   "id": "bf8c76ff",
   "metadata": {},
   "outputs": [],
   "source": [
    "import requests \n",
    "import json\n",
    "import os\n",
    "from dotenv import load_dotenv\n",
    "import pandas as pd\n",
    "from pandas import json_normalize"
   ]
  },
  {
   "cell_type": "code",
   "execution_count": 2,
   "id": "9ac84a14",
   "metadata": {},
   "outputs": [
    {
     "name": "stdout",
     "output_type": "stream",
     "text": [
      "Requirement already satisfied: python-dotenv in /home/beatrizsp/anaconda3/envs/ironhack/lib/python3.8/site-packages (0.19.1)\r\n"
     ]
    }
   ],
   "source": [
    "!pip3 install python-dotenv"
   ]
  },
  {
   "cell_type": "markdown",
   "id": "232530ad",
   "metadata": {},
   "source": [
    "### 1. Importo mi dataframe"
   ]
  },
  {
   "cell_type": "code",
   "execution_count": 3,
   "id": "93ce4029",
   "metadata": {},
   "outputs": [],
   "source": [
    "df= pd.read_csv(\"../data/Food and Calories.csv\")"
   ]
  },
  {
   "cell_type": "code",
   "execution_count": 4,
   "id": "8588d8c4",
   "metadata": {},
   "outputs": [],
   "source": [
    "#url = \"https://www.fruityvice.com/api/fruit/all\""
   ]
  },
  {
   "cell_type": "code",
   "execution_count": 5,
   "id": "1c817fbf",
   "metadata": {},
   "outputs": [],
   "source": [
    "#response = requests.get(url)"
   ]
  },
  {
   "cell_type": "code",
   "execution_count": 6,
   "id": "3400afce",
   "metadata": {},
   "outputs": [],
   "source": [
    "#response"
   ]
  },
  {
   "cell_type": "code",
   "execution_count": 7,
   "id": "2ec1c142",
   "metadata": {},
   "outputs": [],
   "source": [
    "#res_js= response.json()"
   ]
  },
  {
   "cell_type": "code",
   "execution_count": 8,
   "id": "75a85cc2",
   "metadata": {},
   "outputs": [],
   "source": [
    "#res_js"
   ]
  },
  {
   "cell_type": "code",
   "execution_count": 9,
   "id": "f91911cf",
   "metadata": {},
   "outputs": [],
   "source": [
    "#len(res_js)"
   ]
  },
  {
   "cell_type": "code",
   "execution_count": 10,
   "id": "9f856537",
   "metadata": {},
   "outputs": [],
   "source": [
    "#res_js[0]"
   ]
  },
  {
   "cell_type": "code",
   "execution_count": 11,
   "id": "cf441ba6",
   "metadata": {},
   "outputs": [
    {
     "data": {
      "text/html": [
       "<div>\n",
       "<style scoped>\n",
       "    .dataframe tbody tr th:only-of-type {\n",
       "        vertical-align: middle;\n",
       "    }\n",
       "\n",
       "    .dataframe tbody tr th {\n",
       "        vertical-align: top;\n",
       "    }\n",
       "\n",
       "    .dataframe thead th {\n",
       "        text-align: right;\n",
       "    }\n",
       "</style>\n",
       "<table border=\"1\" class=\"dataframe\">\n",
       "  <thead>\n",
       "    <tr style=\"text-align: right;\">\n",
       "      <th></th>\n",
       "      <th>Food</th>\n",
       "      <th>Serving</th>\n",
       "      <th>Calories</th>\n",
       "    </tr>\n",
       "  </thead>\n",
       "  <tbody>\n",
       "    <tr>\n",
       "      <th>0</th>\n",
       "      <td>Artichoke</td>\n",
       "      <td>1 artichoke (128 g)</td>\n",
       "      <td>60 cal</td>\n",
       "    </tr>\n",
       "    <tr>\n",
       "      <th>1</th>\n",
       "      <td>Arugula</td>\n",
       "      <td>1 leaf (2 g)</td>\n",
       "      <td>1 cal</td>\n",
       "    </tr>\n",
       "    <tr>\n",
       "      <th>2</th>\n",
       "      <td>Asparagus</td>\n",
       "      <td>1 spear (12 g)</td>\n",
       "      <td>2 cal</td>\n",
       "    </tr>\n",
       "    <tr>\n",
       "      <th>3</th>\n",
       "      <td>Aubergine</td>\n",
       "      <td>1 aubergine (458 g)</td>\n",
       "      <td>115 cal</td>\n",
       "    </tr>\n",
       "    <tr>\n",
       "      <th>4</th>\n",
       "      <td>Beetroot</td>\n",
       "      <td>1 beet (82 g)</td>\n",
       "      <td>35 cal</td>\n",
       "    </tr>\n",
       "  </tbody>\n",
       "</table>\n",
       "</div>"
      ],
      "text/plain": [
       "        Food              Serving Calories\n",
       "0  Artichoke  1 artichoke (128 g)   60 cal\n",
       "1    Arugula         1 leaf (2 g)    1 cal\n",
       "2  Asparagus       1 spear (12 g)    2 cal\n",
       "3  Aubergine  1 aubergine (458 g)  115 cal\n",
       "4   Beetroot        1 beet (82 g)   35 cal"
      ]
     },
     "execution_count": 11,
     "metadata": {},
     "output_type": "execute_result"
    }
   ],
   "source": [
    "df.head()"
   ]
  },
  {
   "cell_type": "markdown",
   "id": "9b173255",
   "metadata": {},
   "source": [
    "### Limpio mi data frame eliminando nulos y duplicados"
   ]
  },
  {
   "cell_type": "code",
   "execution_count": 12,
   "id": "47e125d7",
   "metadata": {},
   "outputs": [
    {
     "data": {
      "text/plain": [
       "(562, 3)"
      ]
     },
     "execution_count": 12,
     "metadata": {},
     "output_type": "execute_result"
    }
   ],
   "source": [
    "df.shape"
   ]
  },
  {
   "cell_type": "code",
   "execution_count": 13,
   "id": "a9534695",
   "metadata": {},
   "outputs": [],
   "source": [
    "df.dropna(how=\"all\", inplace=True)"
   ]
  },
  {
   "cell_type": "code",
   "execution_count": 14,
   "id": "531f4834",
   "metadata": {},
   "outputs": [
    {
     "data": {
      "text/plain": [
       "(562, 3)"
      ]
     },
     "execution_count": 14,
     "metadata": {},
     "output_type": "execute_result"
    }
   ],
   "source": [
    "df.shape #no hay ninguna fila entera de NaN"
   ]
  },
  {
   "cell_type": "code",
   "execution_count": 15,
   "id": "131a0420",
   "metadata": {},
   "outputs": [],
   "source": [
    "duplicates= df.drop_duplicates() #elimino los duplicados"
   ]
  },
  {
   "cell_type": "code",
   "execution_count": 16,
   "id": "e76e6b37",
   "metadata": {},
   "outputs": [
    {
     "data": {
      "text/plain": [
       "(549, 3)"
      ]
     },
     "execution_count": 16,
     "metadata": {},
     "output_type": "execute_result"
    }
   ],
   "source": [
    "duplicates.shape"
   ]
  },
  {
   "cell_type": "code",
   "execution_count": 17,
   "id": "3e52944c",
   "metadata": {},
   "outputs": [],
   "source": [
    "food = duplicates[\"Food\"].unique()"
   ]
  },
  {
   "cell_type": "markdown",
   "id": "a060e7ea",
   "metadata": {},
   "source": [
    "### Obtengo una lista con los valores únicos de la columna Food que serán los valores de mi dataframe que utilizaré con la información de la API con la que trabaje a continuación"
   ]
  },
  {
   "cell_type": "code",
   "execution_count": 18,
   "id": "44447c81",
   "metadata": {},
   "outputs": [],
   "source": [
    "lista_food= list(food)"
   ]
  },
  {
   "cell_type": "code",
   "execution_count": 19,
   "id": "78373d5e",
   "metadata": {},
   "outputs": [
    {
     "data": {
      "text/plain": [
       "list"
      ]
     },
     "execution_count": 19,
     "metadata": {},
     "output_type": "execute_result"
    }
   ],
   "source": [
    "type(lista_food)"
   ]
  },
  {
   "cell_type": "code",
   "execution_count": 63,
   "id": "96e6c7c6",
   "metadata": {},
   "outputs": [
    {
     "data": {
      "text/plain": [
       "['Artichoke',\n",
       " 'Arugula',\n",
       " 'Asparagus',\n",
       " 'Aubergine',\n",
       " 'Beetroot',\n",
       " 'Bell Pepper',\n",
       " 'Black Olives',\n",
       " 'Broccoli',\n",
       " 'Brussels Sprouts',\n",
       " 'Cabbage',\n",
       " 'Capsicum',\n",
       " 'Carrot',\n",
       " 'Cauliflower',\n",
       " 'Celery',\n",
       " 'Chard',\n",
       " 'Cherry Tomato',\n",
       " 'Chicory',\n",
       " 'Chinese Cabbage',\n",
       " 'Chives',\n",
       " 'Collard Greens',\n",
       " 'Corn',\n",
       " 'Courgette',\n",
       " 'Creamed Spinach',\n",
       " 'Cucumber',\n",
       " 'Eggplant',\n",
       " 'Endive',\n",
       " 'Fennel',\n",
       " 'Garlic',\n",
       " 'Gherkin',\n",
       " 'Gourd',\n",
       " 'Green Beans',\n",
       " 'Green Olives',\n",
       " 'Green Onion',\n",
       " 'Horseradish',\n",
       " 'Kale',\n",
       " 'Kohlrabi',\n",
       " 'Kumara',\n",
       " 'Leek',\n",
       " 'Lettuce',\n",
       " 'Mushrooms',\n",
       " 'Mustard Greens',\n",
       " 'Nori',\n",
       " 'Okra',\n",
       " 'Olives',\n",
       " 'Onion',\n",
       " 'Parsnips',\n",
       " 'Peas',\n",
       " 'Pepper',\n",
       " 'Potato',\n",
       " 'Pumpkin',\n",
       " 'Radishes',\n",
       " 'Red Cabbage',\n",
       " 'Rutabaga',\n",
       " 'Shallots',\n",
       " 'Spinach',\n",
       " 'Squash',\n",
       " 'Sweet Potato',\n",
       " 'Tomato',\n",
       " 'Turnip Greens',\n",
       " 'Turnips',\n",
       " 'Wasabi',\n",
       " 'Winter Squash',\n",
       " 'Zucchini',\n",
       " 'Acai',\n",
       " 'Apple',\n",
       " 'Applesauce',\n",
       " 'Apricot',\n",
       " 'Avocado',\n",
       " 'Banana',\n",
       " 'Blackberries',\n",
       " 'Blood Oranges',\n",
       " 'Blueberries',\n",
       " 'Cantaloupe',\n",
       " 'Cherries',\n",
       " 'Clementine',\n",
       " 'Cranberries',\n",
       " 'Currants',\n",
       " 'Custard Apple',\n",
       " 'Dates',\n",
       " 'Figs',\n",
       " 'Fruit salad',\n",
       " 'Grapes',\n",
       " 'Greengage',\n",
       " 'Guava',\n",
       " 'Jackfruit',\n",
       " 'Jujube',\n",
       " 'Kiwi',\n",
       " 'Lemon',\n",
       " 'Lime',\n",
       " 'Lychees',\n",
       " 'Mandarin Oranges',\n",
       " 'Mango',\n",
       " 'Minneola',\n",
       " 'Mulberries',\n",
       " 'Nectarine',\n",
       " 'Orange',\n",
       " 'Papaya',\n",
       " 'Passion Fruit',\n",
       " 'Peach',\n",
       " 'Pear',\n",
       " 'Persimmon',\n",
       " 'Physalis',\n",
       " 'Pineapple',\n",
       " 'Plantains',\n",
       " 'Plum',\n",
       " 'Pomegranate',\n",
       " 'Quince',\n",
       " 'Raisins',\n",
       " 'Rambutan',\n",
       " 'Raspberries',\n",
       " 'Rhubarb',\n",
       " 'Starfruit',\n",
       " 'Strawberries',\n",
       " 'Tamarind',\n",
       " 'Tangerine',\n",
       " 'Watermelon',\n",
       " 'Baby Back Ribs',\n",
       " 'Bacon and Eggs',\n",
       " 'Baked Beans',\n",
       " 'BBQ Ribs',\n",
       " 'Beef Stew',\n",
       " 'Biryani',\n",
       " 'Black Pudding',\n",
       " 'Black Rice',\n",
       " 'BLT',\n",
       " 'Brown Rice',\n",
       " 'Burrito',\n",
       " 'Butter Chicken',\n",
       " 'California Roll',\n",
       " 'Chicken Caesar Salad',\n",
       " 'Chicken Fried Steak',\n",
       " 'Chicken Marsala',\n",
       " 'Chicken Parmesan',\n",
       " 'Chicken Pot Pie',\n",
       " 'Chicken Tikka Masala',\n",
       " 'Chili con Carne',\n",
       " 'Chimichanga',\n",
       " 'Cobb Salad',\n",
       " 'Corn Dog',\n",
       " 'Corned Beef Hash',\n",
       " 'Cottage Pie',\n",
       " 'Dal',\n",
       " 'Deviled Eggs',\n",
       " 'Dim Sum',\n",
       " 'Dosa',\n",
       " 'Enchiladas',\n",
       " 'Fajita',\n",
       " 'Fish and Chips',\n",
       " 'Fried Rice',\n",
       " 'Fried Shrimp',\n",
       " 'Grilled Cheese Sandwich',\n",
       " 'Ham and Cheese Sandwich',\n",
       " 'Hummus',\n",
       " 'Jambalaya',\n",
       " 'Kebab',\n",
       " 'Lasagne',\n",
       " 'Mac and Cheese',\n",
       " 'Macaroni and Cheese',\n",
       " 'Mashed Potatoes',\n",
       " 'Meat Pie',\n",
       " 'Meatloaf',\n",
       " 'Naan',\n",
       " 'Orange Chicken',\n",
       " 'Pad Thai',\n",
       " 'Paella',\n",
       " 'Paratha',\n",
       " 'Pea Soup',\n",
       " 'Peanut Butter Sandwich',\n",
       " 'Peking Duck',\n",
       " 'Philly Cheese Steak',\n",
       " 'Pizza',\n",
       " 'Pork Chop',\n",
       " 'Potato Salad',\n",
       " 'Pulled Pork Sandwich',\n",
       " 'Ramen',\n",
       " 'Ravioli',\n",
       " 'Reuben Sandwich',\n",
       " 'Roast Beef',\n",
       " 'Roast Dinner',\n",
       " 'Samosa',\n",
       " 'Sausage Roll',\n",
       " 'Sausage Rolls',\n",
       " 'Shepherds Pie',\n",
       " 'Shrimp Cocktail',\n",
       " 'Sloppy Joe',\n",
       " 'Sloppy Joes',\n",
       " 'Spaghetti Bolognese',\n",
       " 'Spring Roll',\n",
       " 'Spring Rolls',\n",
       " 'Taco',\n",
       " 'Tandoori Chicken',\n",
       " 'Yorkshire Pudding',\n",
       " 'Amaranth',\n",
       " 'Barley',\n",
       " 'Barley Groats',\n",
       " 'Buckwheat',\n",
       " 'Buckwheat Groats',\n",
       " 'Corn Waffles',\n",
       " 'Cornmeal',\n",
       " 'Cornstarch',\n",
       " 'Couscous',\n",
       " 'Cracker',\n",
       " 'Durum Wheat Semolina',\n",
       " 'Flaxseed',\n",
       " 'Freekeh',\n",
       " 'Gluten',\n",
       " 'Grissini',\n",
       " 'Kamut',\n",
       " 'Millet',\n",
       " 'Millet Flour',\n",
       " 'Millet Gruel',\n",
       " 'Oat Bran',\n",
       " 'Pearl Barley',\n",
       " 'Polenta',\n",
       " 'Prawn Crackers',\n",
       " 'Pretzel Sticks',\n",
       " 'Quinoa',\n",
       " 'Rusk',\n",
       " 'Rye Bran',\n",
       " 'Sago',\n",
       " 'Savoury Biscuits',\n",
       " 'Shortbread',\n",
       " 'Spelt',\n",
       " 'Spelt Bran',\n",
       " 'Spelt Semolina',\n",
       " 'Sunflower Seeds',\n",
       " 'Tortilla',\n",
       " 'Tortilla Chips',\n",
       " 'Wheat Bran',\n",
       " 'Wheat Germ',\n",
       " 'Wheat Gluten',\n",
       " 'Wheat Semolina',\n",
       " 'Wheat Starch',\n",
       " 'Whole Grain Wheat',\n",
       " 'Wholegrain Oat',\n",
       " 'Almond Oil',\n",
       " 'Apricot Kernel Oil',\n",
       " 'Argan Oil',\n",
       " 'Avocado Oil',\n",
       " 'Babassu Oil',\n",
       " 'Canola Oil',\n",
       " 'Coconut Oil',\n",
       " 'Corn Oil',\n",
       " 'Cottonseed Oil',\n",
       " 'Flaxseed Oil',\n",
       " 'Grape Seed Oil',\n",
       " 'Hazelnut Oil',\n",
       " 'Linseed Oil',\n",
       " 'Menhaden Oil',\n",
       " 'Mustard Oil',\n",
       " 'Oat Oil',\n",
       " 'Olive Oil',\n",
       " 'Palm Kernel Oil',\n",
       " 'Palm Oil',\n",
       " 'Peanut Oil',\n",
       " 'Poppy Seed Oil',\n",
       " 'Pumpkin Seed Oil',\n",
       " 'Rice Bran Oil',\n",
       " 'Safflower Oil',\n",
       " 'Salmon Oil',\n",
       " 'Sesame Oil',\n",
       " 'Shea Oil',\n",
       " 'Soy Oil',\n",
       " 'Sunflower Oil',\n",
       " 'Tomato Seed Oil',\n",
       " 'Vegetable Oil',\n",
       " 'Walnut Oil',\n",
       " 'Wheat Germ Oil',\n",
       " 'Alphabet Soup',\n",
       " 'Bean Stew',\n",
       " 'Beef Bouillon',\n",
       " 'Beef Noodle Soup',\n",
       " 'Beef Soup',\n",
       " 'Bouillon',\n",
       " 'Broccoli Cheese Soup',\n",
       " 'Broccoli Soup',\n",
       " 'Cabbage Soup',\n",
       " 'Carrot Ginger Soup',\n",
       " 'Carrot Soup',\n",
       " 'Chicken Bouillon',\n",
       " 'Chicken Broth',\n",
       " 'Chicken Gumbo Soup',\n",
       " 'Chicken Noodle Soup',\n",
       " 'Chicken Stock',\n",
       " 'Chicken Vegetable Soup',\n",
       " 'Chicken with Rice Soup',\n",
       " 'Cream of Asparagus Soup',\n",
       " 'Cream of Broccoli Soup',\n",
       " 'Cream of Celery Soup',\n",
       " 'Cream of Chicken Soup',\n",
       " 'Cream of Mushroom Soup',\n",
       " 'Cream of Onion Soup',\n",
       " 'Cream of Potato Soup',\n",
       " 'Creamy Chicken Noodle Soup',\n",
       " 'French Onion Soup',\n",
       " 'Golden Mushroom Soup',\n",
       " 'Goulash',\n",
       " 'Instant Ramen',\n",
       " 'Lentil Soup',\n",
       " 'Lobster Bisque Soup',\n",
       " 'Meatball Soup',\n",
       " 'Minestrone',\n",
       " 'Mushroom Soup',\n",
       " 'Noodle Soup',\n",
       " 'Onion Soup',\n",
       " 'Oxtail Soup',\n",
       " 'Potato Soup',\n",
       " 'Pumpkin Soup',\n",
       " 'Scotch Broth',\n",
       " 'Succotash',\n",
       " 'Thai Soup',\n",
       " 'Tomato Rice Soup',\n",
       " 'Tomato Soup',\n",
       " 'Vegetable Beef Soup',\n",
       " 'Vegetable Broth',\n",
       " 'Vegetable Soup',\n",
       " 'Vegetable Stock',\n",
       " 'Wedding Soup',\n",
       " 'Baskin-Robbins',\n",
       " 'Ben and Jerry’s',\n",
       " 'Butter Pecan Ice Cream',\n",
       " 'Carvel',\n",
       " 'Chocolate Chip Ice Cream',\n",
       " 'Chocolate Ice Cream',\n",
       " 'Ciao Bella',\n",
       " 'Coffee Ice Cream',\n",
       " 'Cold Stone Creamery',\n",
       " 'Cookie Dough Ice Cream',\n",
       " 'Crunchie McFlurry',\n",
       " 'Dairy Milk McFlurry',\n",
       " 'Dippin Dots',\n",
       " 'Double Rainbow',\n",
       " 'Drumsticks',\n",
       " 'French Vanilla Ice Cream',\n",
       " 'Friendly’s',\n",
       " 'Healthy Choice',\n",
       " 'Hot Fudge Sundae',\n",
       " 'Ice Cream Sandwich',\n",
       " 'Ice Cream Sundae',\n",
       " 'Ice Milk',\n",
       " 'Magnolia',\n",
       " 'Magnum',\n",
       " 'Magnum Almond',\n",
       " 'Magnum Double Caramel',\n",
       " 'Magnum Double Chocolate',\n",
       " 'Magnum Gold',\n",
       " 'Magnum White',\n",
       " 'McFlurry',\n",
       " 'McFlurry Oreo',\n",
       " 'Mini Milk',\n",
       " 'Mint Chocolate Chip Ice Cream',\n",
       " 'Rocky Road Ice Cream',\n",
       " 'Schwan’s',\n",
       " 'Smarties McFlurry',\n",
       " 'Snickers Ice Cream',\n",
       " 'Soft Serve',\n",
       " 'Solero',\n",
       " 'Strawberry Ice Cream',\n",
       " 'Strawberry Sundae',\n",
       " 'Sundae',\n",
       " 'Turkey Hill',\n",
       " 'Vanilla Cone',\n",
       " 'Vanilla Ice Cream',\n",
       " 'Cannelloni',\n",
       " 'Capellini',\n",
       " 'Cappelletti',\n",
       " 'Cellophane Noodles',\n",
       " 'Cheese Tortellini',\n",
       " 'Dampfnudel',\n",
       " 'Dumpling Dough',\n",
       " 'Egg Noodles',\n",
       " 'Farfalle',\n",
       " 'Fettuccine',\n",
       " 'Fusilli',\n",
       " 'Glass Noodles',\n",
       " 'Lasagne Sheets',\n",
       " 'Linguine',\n",
       " 'Low Carb Pasta',\n",
       " 'Macaroni',\n",
       " 'Manicotti',\n",
       " 'Mostaccioli',\n",
       " 'Orecchiette',\n",
       " 'Orzo',\n",
       " 'Penne',\n",
       " 'Penne Rigate',\n",
       " 'Pierogi',\n",
       " 'Rigatoni',\n",
       " 'Rotini',\n",
       " 'Shells',\n",
       " 'Shirataki Noodles',\n",
       " 'Soy Noodles',\n",
       " 'Spaetzle',\n",
       " 'Spaghetti',\n",
       " 'Spinach Tortellini',\n",
       " 'Spirelli',\n",
       " 'Tagliatelle',\n",
       " 'Tortellini',\n",
       " 'Vermicelli',\n",
       " 'Whole Grain Noodles',\n",
       " 'Whole Grain Spaghetti',\n",
       " 'Ziti',\n",
       " 'BBQ Chicken Pizza',\n",
       " 'BBQ Pizza',\n",
       " 'Beef Pizza',\n",
       " 'Bianca Pizza',\n",
       " 'Buffalo Chicken Pizza',\n",
       " 'Calabrese Pizza',\n",
       " 'Calzone',\n",
       " 'Capricciosa Pizza',\n",
       " 'Cheese Pizza',\n",
       " 'Chicken Pizza',\n",
       " 'Deep Dish Pizza',\n",
       " 'Dominos Philly Cheese Steak Pizza',\n",
       " 'Four Cheese Pizza',\n",
       " 'Goat Cheese Pizza',\n",
       " 'Grilled Pizza',\n",
       " 'Hawaiian Pizza',\n",
       " 'Margherita Pizza',\n",
       " 'Mozzarella Pizza',\n",
       " 'Mushroom Pizza',\n",
       " 'Napoli Pizza',\n",
       " 'New York Style Pizza',\n",
       " 'Pepperoni Pizza',\n",
       " 'Pizza Dough',\n",
       " 'Pizza Hut Stuffed Crust Pizza',\n",
       " 'Pizza Hut Supreme Pizza',\n",
       " 'Pizza Rolls',\n",
       " 'Quattro Formaggi Pizza',\n",
       " 'Red Pepper Pizza',\n",
       " 'Salami Pizza',\n",
       " 'Sausage Pizza',\n",
       " 'Seafood Pizza',\n",
       " 'Shrimp Pizza',\n",
       " 'Sicilian Pizza',\n",
       " 'Spinach Feta Pizza',\n",
       " 'Spinach Pizza',\n",
       " 'Stuffed Crust Pizza',\n",
       " 'Tarte Flambée',\n",
       " 'Thin Crust Pizza',\n",
       " 'Tuna Pizza',\n",
       " 'Vegetable Pizza',\n",
       " 'Vegetarian Pizza',\n",
       " 'Veggie Pizza',\n",
       " 'White Pizza',\n",
       " 'Acerola',\n",
       " 'Asian Pear',\n",
       " 'Breadfruit',\n",
       " 'Cantaloupe Melon',\n",
       " 'Casaba Melon',\n",
       " 'Cherimoya',\n",
       " 'Dragon Fruit',\n",
       " 'Durian',\n",
       " 'Feijoa',\n",
       " 'Galia Melon',\n",
       " 'Grapefruit',\n",
       " 'Honeydew',\n",
       " 'Kumquat',\n",
       " 'Lychee',\n",
       " 'Mangosteen',\n",
       " 'Maracuya',\n",
       " 'Maraschino Cherries',\n",
       " 'Muskmelon',\n",
       " 'Noni',\n",
       " 'Pink Grapefruit',\n",
       " 'Plantain',\n",
       " 'Pomelo',\n",
       " 'Prickly Pear',\n",
       " 'Sapodilla',\n",
       " 'Soursop Fruit',\n",
       " 'Star Fruit',\n",
       " 'Arby’s Grand Turkey Club',\n",
       " 'Arby’s Reuben',\n",
       " 'Arby’s Roast Beef Classic',\n",
       " 'Arby’s Roast Beef Max',\n",
       " 'BBQ Rib',\n",
       " 'Bean Burrito',\n",
       " 'Big N’ Tasty',\n",
       " 'Bratwurst',\n",
       " 'Burger King Angry Whopper',\n",
       " 'Burger King Double Whopper',\n",
       " 'Burger King Double Whopper with Cheese',\n",
       " 'Burger King Original Chicken Sandwich',\n",
       " 'Burger King Premium Alaskan Fish Sandwich',\n",
       " 'Burger King Triple Whopper',\n",
       " 'Burger King Whopper',\n",
       " 'Burger King Whopper Jr.',\n",
       " 'Burger King Whopper with Cheese',\n",
       " 'Cheeseburger',\n",
       " 'Chicken Breast',\n",
       " 'Chicken Fajita',\n",
       " 'Chicken McNuggets',\n",
       " 'Chicken Nuggets',\n",
       " 'Chicken Pizziola',\n",
       " 'Chicken Sandwich',\n",
       " 'Chicken Teriyaki Sandwich',\n",
       " 'Chicken Wings',\n",
       " 'Chop Suey',\n",
       " 'Curly Fries',\n",
       " 'Double Cheeseburger',\n",
       " 'Egg Roll',\n",
       " 'Falafel',\n",
       " 'Filet-o-Fish',\n",
       " 'Fish Sandwich',\n",
       " 'French Fries',\n",
       " 'Grilled Chicken Salad',\n",
       " 'Ham Sandwich',\n",
       " 'Hamburger',\n",
       " 'Hot Dog',\n",
       " 'Italian BMT',\n",
       " 'Lasagna',\n",
       " 'McDonald’s Big Mac',\n",
       " 'McDonald’s Cheeseburger',\n",
       " 'McDonald’s Chicken Nuggets',\n",
       " 'McDonald’s Double Cheeseburger',\n",
       " 'McDonald’s Filet-o-Fish',\n",
       " 'McDonald’s McChicken',\n",
       " 'McDonald’s McDouble',\n",
       " 'McDonald’s McMuffi Egg',\n",
       " 'McDonald’s McRib',\n",
       " 'McDonald’s Mighty Wings',\n",
       " 'McRib',\n",
       " 'Meatball Sandwich',\n",
       " 'Nachos with Cheese',\n",
       " 'Onion Rings',\n",
       " 'Poutine',\n",
       " 'Smoked Salmon',\n",
       " 'Spicy Italian',\n",
       " 'Subway Club Sandwich',\n",
       " 'Tortilla Wrap',\n",
       " 'Tuna',\n",
       " 'Turkey',\n",
       " 'Veggie Burger',\n",
       " 'Veggie Delight',\n",
       " 'Veggie Patty',\n",
       " 'Wendy’s Baconator',\n",
       " 'Wendy’s Jr. Bacon Cheeseburger',\n",
       " 'Wendy’s Jr. Cheeseburger',\n",
       " 'Wendy’s Son of Baconator',\n",
       " 'Whopper',\n",
       " 'Zinger',\n",
       " 'Zinger Burger']"
      ]
     },
     "execution_count": 63,
     "metadata": {},
     "output_type": "execute_result"
    }
   ],
   "source": [
    "lista_food"
   ]
  },
  {
   "cell_type": "code",
   "execution_count": 64,
   "id": "24a555da",
   "metadata": {},
   "outputs": [
    {
     "data": {
      "text/plain": [
       "list"
      ]
     },
     "execution_count": 64,
     "metadata": {},
     "output_type": "execute_result"
    }
   ],
   "source": [
    "type(lista_food)"
   ]
  },
  {
   "cell_type": "code",
   "execution_count": null,
   "id": "920382d8",
   "metadata": {},
   "outputs": [],
   "source": [
    "#tengo una url de API pero la llamo concretamente para un alimento, hago una PRUEBA para que ver qué me devuelve introduciendo un alimento que sé (porque está en español) que no va a estar en la lista de APIs."
   ]
  },
  {
   "cell_type": "code",
   "execution_count": 52,
   "id": "dc6700e2",
   "metadata": {},
   "outputs": [],
   "source": [
    "#url_nut = 'https://api.edamam.com/api/nutrition-data?app_id=5bb5f3ad&app_key=a3a514dbb62d9ea04d57160922fce573&nutrition-type=logging&ingr=manzana'"
   ]
  },
  {
   "cell_type": "code",
   "execution_count": 53,
   "id": "a1803e01",
   "metadata": {},
   "outputs": [],
   "source": [
    "#apple = requests.get(url_nut)"
   ]
  },
  {
   "cell_type": "code",
   "execution_count": 56,
   "id": "2cce19d7",
   "metadata": {},
   "outputs": [],
   "source": [
    "#manzana = apple.json()"
   ]
  },
  {
   "cell_type": "code",
   "execution_count": 57,
   "id": "da21aa39",
   "metadata": {},
   "outputs": [],
   "source": [
    "#df = pd.DataFrame.from_dict(manzana, orient=\"index\")"
   ]
  },
  {
   "cell_type": "code",
   "execution_count": 58,
   "id": "ed191ec9",
   "metadata": {},
   "outputs": [
    {
     "data": {
      "text/html": [
       "<div>\n",
       "<style scoped>\n",
       "    .dataframe tbody tr th:only-of-type {\n",
       "        vertical-align: middle;\n",
       "    }\n",
       "\n",
       "    .dataframe tbody tr th {\n",
       "        vertical-align: top;\n",
       "    }\n",
       "\n",
       "    .dataframe thead th {\n",
       "        text-align: right;\n",
       "    }\n",
       "</style>\n",
       "<table border=\"1\" class=\"dataframe\">\n",
       "  <thead>\n",
       "    <tr style=\"text-align: right;\">\n",
       "      <th></th>\n",
       "      <th>0</th>\n",
       "    </tr>\n",
       "  </thead>\n",
       "  <tbody>\n",
       "    <tr>\n",
       "      <th>uri</th>\n",
       "      <td>http://www.edamam.com/ontologies/edamam.owl#re...</td>\n",
       "    </tr>\n",
       "    <tr>\n",
       "      <th>calories</th>\n",
       "      <td>0</td>\n",
       "    </tr>\n",
       "    <tr>\n",
       "      <th>totalWeight</th>\n",
       "      <td>0.0</td>\n",
       "    </tr>\n",
       "    <tr>\n",
       "      <th>dietLabels</th>\n",
       "      <td>[]</td>\n",
       "    </tr>\n",
       "    <tr>\n",
       "      <th>healthLabels</th>\n",
       "      <td>[LOW_SUGAR, VEGAN, VEGETARIAN, PESCATARIAN, PA...</td>\n",
       "    </tr>\n",
       "    <tr>\n",
       "      <th>cautions</th>\n",
       "      <td>[]</td>\n",
       "    </tr>\n",
       "    <tr>\n",
       "      <th>totalNutrients</th>\n",
       "      <td>{}</td>\n",
       "    </tr>\n",
       "    <tr>\n",
       "      <th>totalDaily</th>\n",
       "      <td>{}</td>\n",
       "    </tr>\n",
       "    <tr>\n",
       "      <th>totalNutrientsKCal</th>\n",
       "      <td>{'ENERC_KCAL': {'label': 'Energy', 'quantity':...</td>\n",
       "    </tr>\n",
       "  </tbody>\n",
       "</table>\n",
       "</div>"
      ],
      "text/plain": [
       "                                                                    0\n",
       "uri                 http://www.edamam.com/ontologies/edamam.owl#re...\n",
       "calories                                                            0\n",
       "totalWeight                                                       0.0\n",
       "dietLabels                                                         []\n",
       "healthLabels        [LOW_SUGAR, VEGAN, VEGETARIAN, PESCATARIAN, PA...\n",
       "cautions                                                           []\n",
       "totalNutrients                                                     {}\n",
       "totalDaily                                                         {}\n",
       "totalNutrientsKCal  {'ENERC_KCAL': {'label': 'Energy', 'quantity':..."
      ]
     },
     "execution_count": 58,
     "metadata": {},
     "output_type": "execute_result"
    }
   ],
   "source": [
    "#df. Me devuelve un dataframe con los valores vacío pero no me da error."
   ]
  },
  {
   "cell_type": "code",
   "execution_count": 84,
   "id": "2d82a441",
   "metadata": {},
   "outputs": [],
   "source": [
    "#url2= 'https://api.edamam.com/api/nutrition-data'"
   ]
  },
  {
   "cell_type": "markdown",
   "id": "3502108f",
   "metadata": {},
   "source": [
    "### Me devuelve un json pero cuando meto la url entera con los 3 parámetros, app_id, app_key, ingr ; pero solo me devuelve un 200 cuando meto un ingrediente concreto, en este caso \"apple\""
   ]
  },
  {
   "cell_type": "code",
   "execution_count": 90,
   "id": "8a9d3f14",
   "metadata": {},
   "outputs": [],
   "source": [
    "url2 = 'https://api.edamam.com/api/nutrition-data?app_id=5bb5f3ad&app_key=a3a514dbb62d9ea04d57160922fce573&nutrition-type=logging&ingr=apple'"
   ]
  },
  {
   "cell_type": "code",
   "execution_count": 91,
   "id": "013456b6",
   "metadata": {},
   "outputs": [],
   "source": [
    "parameters = {\"app_id\": '5bb5f3ad', \"app_key\":'a3a514dbb62d9ea04d57160922fce573', \"ingr\":\"apple\"}"
   ]
  },
  {
   "cell_type": "code",
   "execution_count": 92,
   "id": "3faf9212",
   "metadata": {},
   "outputs": [],
   "source": [
    "response2 = requests.get(url2, params=parameters)"
   ]
  },
  {
   "cell_type": "code",
   "execution_count": 93,
   "id": "34921f30",
   "metadata": {},
   "outputs": [
    {
     "data": {
      "text/plain": [
       "<Response [200]>"
      ]
     },
     "execution_count": 93,
     "metadata": {},
     "output_type": "execute_result"
    }
   ],
   "source": [
    "response2"
   ]
  },
  {
   "cell_type": "code",
   "execution_count": 94,
   "id": "0fe35f55",
   "metadata": {},
   "outputs": [],
   "source": [
    "api=response2.json()"
   ]
  },
  {
   "cell_type": "code",
   "execution_count": 95,
   "id": "e4e856e9",
   "metadata": {},
   "outputs": [
    {
     "data": {
      "text/plain": [
       "{'uri': 'http://www.edamam.com/ontologies/edamam.owl#recipe_fb479049500e45e5bcec0174de10e0fe',\n",
       " 'calories': 125,\n",
       " 'totalWeight': 242.0,\n",
       " 'dietLabels': ['LOW_FAT', 'LOW_SODIUM'],\n",
       " 'healthLabels': ['FAT_FREE',\n",
       "  'LOW_FAT_ABS',\n",
       "  'LOW_POTASSIUM',\n",
       "  'KIDNEY_FRIENDLY',\n",
       "  'VEGAN',\n",
       "  'VEGETARIAN',\n",
       "  'PESCATARIAN',\n",
       "  'PALEO',\n",
       "  'SPECIFIC_CARBS',\n",
       "  'MEDITERRANEAN',\n",
       "  'DASH',\n",
       "  'DAIRY_FREE',\n",
       "  'GLUTEN_FREE',\n",
       "  'WHEAT_FREE',\n",
       "  'EGG_FREE',\n",
       "  'MILK_FREE',\n",
       "  'PEANUT_FREE',\n",
       "  'TREE_NUT_FREE',\n",
       "  'SOY_FREE',\n",
       "  'FISH_FREE',\n",
       "  'SHELLFISH_FREE',\n",
       "  'PORK_FREE',\n",
       "  'RED_MEAT_FREE',\n",
       "  'CRUSTACEAN_FREE',\n",
       "  'CELERY_FREE',\n",
       "  'MUSTARD_FREE',\n",
       "  'SESAME_FREE',\n",
       "  'LUPINE_FREE',\n",
       "  'MOLLUSK_FREE',\n",
       "  'ALCOHOL_FREE',\n",
       "  'NO_OIL_ADDED',\n",
       "  'NO_SUGAR_ADDED',\n",
       "  'SULPHITE_FREE',\n",
       "  'KOSHER'],\n",
       " 'cautions': ['SULFITES'],\n",
       " 'totalNutrients': {'ENERC_KCAL': {'label': 'Energy',\n",
       "   'quantity': 125.84,\n",
       "   'unit': 'kcal'},\n",
       "  'FAT': {'label': 'Total lipid (fat)',\n",
       "   'quantity': 0.41140000000000004,\n",
       "   'unit': 'g'},\n",
       "  'FASAT': {'label': 'Fatty acids, total saturated',\n",
       "   'quantity': 0.06776,\n",
       "   'unit': 'g'},\n",
       "  'FAMS': {'label': 'Fatty acids, total monounsaturated',\n",
       "   'quantity': 0.01694,\n",
       "   'unit': 'g'},\n",
       "  'FAPU': {'label': 'Fatty acids, total polyunsaturated',\n",
       "   'quantity': 0.12341999999999999,\n",
       "   'unit': 'g'},\n",
       "  'CHOCDF': {'label': 'Carbohydrate, by difference',\n",
       "   'quantity': 33.4202,\n",
       "   'unit': 'g'},\n",
       "  'FIBTG': {'label': 'Fiber, total dietary', 'quantity': 5.808, 'unit': 'g'},\n",
       "  'SUGAR': {'label': 'Sugars, total',\n",
       "   'quantity': 25.143800000000002,\n",
       "   'unit': 'g'},\n",
       "  'PROCNT': {'label': 'Protein', 'quantity': 0.6292, 'unit': 'g'},\n",
       "  'CHOLE': {'label': 'Cholesterol', 'quantity': 0.0, 'unit': 'mg'},\n",
       "  'NA': {'label': 'Sodium, Na', 'quantity': 2.42, 'unit': 'mg'},\n",
       "  'CA': {'label': 'Calcium, Ca', 'quantity': 14.52, 'unit': 'mg'},\n",
       "  'MG': {'label': 'Magnesium, Mg', 'quantity': 12.1, 'unit': 'mg'},\n",
       "  'K': {'label': 'Potassium, K', 'quantity': 258.94, 'unit': 'mg'},\n",
       "  'FE': {'label': 'Iron, Fe', 'quantity': 0.2904, 'unit': 'mg'},\n",
       "  'ZN': {'label': 'Zinc, Zn', 'quantity': 0.0968, 'unit': 'mg'},\n",
       "  'P': {'label': 'Phosphorus, P',\n",
       "   'quantity': 26.619999999999997,\n",
       "   'unit': 'mg'},\n",
       "  'VITA_RAE': {'label': 'Vitamin A, RAE', 'quantity': 7.26, 'unit': 'µg'},\n",
       "  'VITC': {'label': 'Vitamin C, total ascorbic acid',\n",
       "   'quantity': 11.132,\n",
       "   'unit': 'mg'},\n",
       "  'THIA': {'label': 'Thiamin', 'quantity': 0.04114, 'unit': 'mg'},\n",
       "  'RIBF': {'label': 'Riboflavin',\n",
       "   'quantity': 0.06291999999999999,\n",
       "   'unit': 'mg'},\n",
       "  'NIA': {'label': 'Niacin', 'quantity': 0.22022, 'unit': 'mg'},\n",
       "  'VITB6A': {'label': 'Vitamin B-6', 'quantity': 0.09922, 'unit': 'mg'},\n",
       "  'FOLDFE': {'label': 'Folate, DFE', 'quantity': 7.26, 'unit': 'µg'},\n",
       "  'FOLFD': {'label': 'Folate, food', 'quantity': 7.26, 'unit': 'µg'},\n",
       "  'FOLAC': {'label': 'Folic acid', 'quantity': 0.0, 'unit': 'µg'},\n",
       "  'VITB12': {'label': 'Vitamin B-12', 'quantity': 0.0, 'unit': 'µg'},\n",
       "  'VITD': {'label': 'Vitamin D (D2 + D3)', 'quantity': 0.0, 'unit': 'µg'},\n",
       "  'TOCPHA': {'label': 'Vitamin E (alpha-tocopherol)',\n",
       "   'quantity': 0.4356,\n",
       "   'unit': 'mg'},\n",
       "  'VITK1': {'label': 'Vitamin K (phylloquinone)',\n",
       "   'quantity': 5.324,\n",
       "   'unit': 'µg'},\n",
       "  'WATER': {'label': 'Water', 'quantity': 207.0552, 'unit': 'g'}},\n",
       " 'totalDaily': {'ENERC_KCAL': {'label': 'Energy',\n",
       "   'quantity': 6.292,\n",
       "   'unit': '%'},\n",
       "  'FAT': {'label': 'Fat', 'quantity': 0.632923076923077, 'unit': '%'},\n",
       "  'FASAT': {'label': 'Saturated', 'quantity': 0.3388, 'unit': '%'},\n",
       "  'CHOCDF': {'label': 'Carbs', 'quantity': 11.140066666666666, 'unit': '%'},\n",
       "  'FIBTG': {'label': 'Fiber', 'quantity': 23.232, 'unit': '%'},\n",
       "  'PROCNT': {'label': 'Protein', 'quantity': 1.2584, 'unit': '%'},\n",
       "  'CHOLE': {'label': 'Cholesterol', 'quantity': 0.0, 'unit': '%'},\n",
       "  'NA': {'label': 'Sodium', 'quantity': 0.10083333333333333, 'unit': '%'},\n",
       "  'CA': {'label': 'Calcium', 'quantity': 1.452, 'unit': '%'},\n",
       "  'MG': {'label': 'Magnesium', 'quantity': 2.880952380952381, 'unit': '%'},\n",
       "  'K': {'label': 'Potassium', 'quantity': 5.509361702127659, 'unit': '%'},\n",
       "  'FE': {'label': 'Iron', 'quantity': 1.6133333333333333, 'unit': '%'},\n",
       "  'ZN': {'label': 'Zinc', 'quantity': 0.88, 'unit': '%'},\n",
       "  'P': {'label': 'Phosphorus', 'quantity': 3.802857142857142, 'unit': '%'},\n",
       "  'VITA_RAE': {'label': 'Vitamin A',\n",
       "   'quantity': 0.8066666666666666,\n",
       "   'unit': '%'},\n",
       "  'VITC': {'label': 'Vitamin C', 'quantity': 12.36888888888889, 'unit': '%'},\n",
       "  'THIA': {'label': 'Thiamin (B1)',\n",
       "   'quantity': 3.4283333333333332,\n",
       "   'unit': '%'},\n",
       "  'RIBF': {'label': 'Riboflavin (B2)',\n",
       "   'quantity': 4.839999999999999,\n",
       "   'unit': '%'},\n",
       "  'NIA': {'label': 'Niacin (B3)', 'quantity': 1.376375, 'unit': '%'},\n",
       "  'VITB6A': {'label': 'Vitamin B6',\n",
       "   'quantity': 7.632307692307693,\n",
       "   'unit': '%'},\n",
       "  'FOLDFE': {'label': 'Folate equivalent (total)',\n",
       "   'quantity': 1.815,\n",
       "   'unit': '%'},\n",
       "  'VITB12': {'label': 'Vitamin B12', 'quantity': 0.0, 'unit': '%'},\n",
       "  'VITD': {'label': 'Vitamin D', 'quantity': 0.0, 'unit': '%'},\n",
       "  'TOCPHA': {'label': 'Vitamin E',\n",
       "   'quantity': 2.9040000000000004,\n",
       "   'unit': '%'},\n",
       "  'VITK1': {'label': 'Vitamin K',\n",
       "   'quantity': 4.4366666666666665,\n",
       "   'unit': '%'}},\n",
       " 'totalNutrientsKCal': {'ENERC_KCAL': {'label': 'Energy',\n",
       "   'quantity': 125,\n",
       "   'unit': 'kcal'},\n",
       "  'PROCNT_KCAL': {'label': 'Calories from protein',\n",
       "   'quantity': 2,\n",
       "   'unit': 'kcal'},\n",
       "  'FAT_KCAL': {'label': 'Calories from fat', 'quantity': 3, 'unit': 'kcal'},\n",
       "  'CHOCDF_KCAL': {'label': 'Calories from carbohydrates',\n",
       "   'quantity': 120,\n",
       "   'unit': 'kcal'}}}"
      ]
     },
     "execution_count": 95,
     "metadata": {},
     "output_type": "execute_result"
    }
   ],
   "source": [
    "api #me da los valores de apple"
   ]
  },
  {
   "cell_type": "code",
   "execution_count": 28,
   "id": "cd5f1492",
   "metadata": {},
   "outputs": [
    {
     "data": {
      "text/plain": [
       "dict"
      ]
     },
     "execution_count": 28,
     "metadata": {},
     "output_type": "execute_result"
    }
   ],
   "source": [
    "type(api)"
   ]
  },
  {
   "cell_type": "markdown",
   "id": "79996cc4",
   "metadata": {},
   "source": [
    "### Voy a hacer una prueba con una lista de 3 ingredientes, para que en la función me itere por la lista. De esos tres ingredientes se que uno no va a estar en la api porque está en español pero los otros dos si."
   ]
  },
  {
   "cell_type": "code",
   "execution_count": 59,
   "id": "2b27436b",
   "metadata": {},
   "outputs": [],
   "source": [
    "lista2 = [\"manzana\", \"pear\", \"lemon\"]"
   ]
  },
  {
   "cell_type": "code",
   "execution_count": 75,
   "id": "865d89e4",
   "metadata": {},
   "outputs": [],
   "source": [
    "def call_api(app_id, app_key, ingredientes):\n",
    "    result_list = []\n",
    "    for ingre in ingredientes: \n",
    "        b = requests.get(f'https://api.edamam.com/api/nutrition-data?app_id={app_id}&app_key={app_key}&nutrition-type=logging&ingr={ingre}').content\n",
    "        r = json.loads(b.decode())\n",
    "        result_list.append(r)\n",
    "    return result_list"
   ]
  },
  {
   "cell_type": "code",
   "execution_count": 76,
   "id": "17913c53",
   "metadata": {},
   "outputs": [],
   "source": [
    "prueba = call_api('5bb5f3ad','a3a514dbb62d9ea04d57160922fce573',lista2)"
   ]
  },
  {
   "cell_type": "code",
   "execution_count": 77,
   "id": "a93512dc",
   "metadata": {},
   "outputs": [
    {
     "data": {
      "text/html": [
       "<div>\n",
       "<style scoped>\n",
       "    .dataframe tbody tr th:only-of-type {\n",
       "        vertical-align: middle;\n",
       "    }\n",
       "\n",
       "    .dataframe tbody tr th {\n",
       "        vertical-align: top;\n",
       "    }\n",
       "\n",
       "    .dataframe thead th {\n",
       "        text-align: right;\n",
       "    }\n",
       "</style>\n",
       "<table border=\"1\" class=\"dataframe\">\n",
       "  <thead>\n",
       "    <tr style=\"text-align: right;\">\n",
       "      <th></th>\n",
       "      <th>uri</th>\n",
       "      <th>calories</th>\n",
       "      <th>totalWeight</th>\n",
       "      <th>dietLabels</th>\n",
       "      <th>healthLabels</th>\n",
       "      <th>cautions</th>\n",
       "      <th>totalNutrients</th>\n",
       "      <th>totalDaily</th>\n",
       "      <th>totalNutrientsKCal</th>\n",
       "    </tr>\n",
       "  </thead>\n",
       "  <tbody>\n",
       "    <tr>\n",
       "      <th>0</th>\n",
       "      <td>http://www.edamam.com/ontologies/edamam.owl#re...</td>\n",
       "      <td>0</td>\n",
       "      <td>0.0</td>\n",
       "      <td>[]</td>\n",
       "      <td>[LOW_SUGAR, VEGAN, VEGETARIAN, PESCATARIAN, PA...</td>\n",
       "      <td>[]</td>\n",
       "      <td>{}</td>\n",
       "      <td>{}</td>\n",
       "      <td>{'ENERC_KCAL': {'label': 'Energy', 'quantity':...</td>\n",
       "    </tr>\n",
       "    <tr>\n",
       "      <th>1</th>\n",
       "      <td>http://www.edamam.com/ontologies/edamam.owl#re...</td>\n",
       "      <td>94</td>\n",
       "      <td>166.0</td>\n",
       "      <td>[LOW_FAT, LOW_SODIUM]</td>\n",
       "      <td>[FAT_FREE, LOW_FAT_ABS, LOW_POTASSIUM, KIDNEY_...</td>\n",
       "      <td>[SULFITES]</td>\n",
       "      <td>{'ENERC_KCAL': {'label': 'Energy', 'quantity':...</td>\n",
       "      <td>{'ENERC_KCAL': {'label': 'Energy', 'quantity':...</td>\n",
       "      <td>{'ENERC_KCAL': {'label': 'Energy', 'quantity':...</td>\n",
       "    </tr>\n",
       "    <tr>\n",
       "      <th>2</th>\n",
       "      <td>http://www.edamam.com/ontologies/edamam.owl#re...</td>\n",
       "      <td>16</td>\n",
       "      <td>58.0</td>\n",
       "      <td>[LOW_FAT, LOW_SODIUM]</td>\n",
       "      <td>[FAT_FREE, LOW_FAT_ABS, SUGAR_CONSCIOUS, LOW_P...</td>\n",
       "      <td>[SULFITES]</td>\n",
       "      <td>{'ENERC_KCAL': {'label': 'Energy', 'quantity':...</td>\n",
       "      <td>{'ENERC_KCAL': {'label': 'Energy', 'quantity':...</td>\n",
       "      <td>{'ENERC_KCAL': {'label': 'Energy', 'quantity':...</td>\n",
       "    </tr>\n",
       "  </tbody>\n",
       "</table>\n",
       "</div>"
      ],
      "text/plain": [
       "                                                 uri  calories  totalWeight  \\\n",
       "0  http://www.edamam.com/ontologies/edamam.owl#re...         0          0.0   \n",
       "1  http://www.edamam.com/ontologies/edamam.owl#re...        94        166.0   \n",
       "2  http://www.edamam.com/ontologies/edamam.owl#re...        16         58.0   \n",
       "\n",
       "              dietLabels                                       healthLabels  \\\n",
       "0                     []  [LOW_SUGAR, VEGAN, VEGETARIAN, PESCATARIAN, PA...   \n",
       "1  [LOW_FAT, LOW_SODIUM]  [FAT_FREE, LOW_FAT_ABS, LOW_POTASSIUM, KIDNEY_...   \n",
       "2  [LOW_FAT, LOW_SODIUM]  [FAT_FREE, LOW_FAT_ABS, SUGAR_CONSCIOUS, LOW_P...   \n",
       "\n",
       "     cautions                                     totalNutrients  \\\n",
       "0          []                                                 {}   \n",
       "1  [SULFITES]  {'ENERC_KCAL': {'label': 'Energy', 'quantity':...   \n",
       "2  [SULFITES]  {'ENERC_KCAL': {'label': 'Energy', 'quantity':...   \n",
       "\n",
       "                                          totalDaily  \\\n",
       "0                                                 {}   \n",
       "1  {'ENERC_KCAL': {'label': 'Energy', 'quantity':...   \n",
       "2  {'ENERC_KCAL': {'label': 'Energy', 'quantity':...   \n",
       "\n",
       "                                  totalNutrientsKCal  \n",
       "0  {'ENERC_KCAL': {'label': 'Energy', 'quantity':...  \n",
       "1  {'ENERC_KCAL': {'label': 'Energy', 'quantity':...  \n",
       "2  {'ENERC_KCAL': {'label': 'Energy', 'quantity':...  "
      ]
     },
     "execution_count": 77,
     "metadata": {},
     "output_type": "execute_result"
    }
   ],
   "source": [
    "pd.DataFrame(prueba)"
   ]
  },
  {
   "cell_type": "markdown",
   "id": "4b5331dc",
   "metadata": {},
   "source": [
    "### me devuelve un df con los valores de manzana vacíos y los valores de los otros dos ingredientes que si se encontraban en la API completados."
   ]
  },
  {
   "cell_type": "markdown",
   "id": "d3b319c7",
   "metadata": {},
   "source": [
    "### pero cuando le incluyo mi lista_food de ingredientes de mi df, y modifico la url poniendo en el parámetro de ingr, en lugar de apple, {ingre}, se queda colgado."
   ]
  },
  {
   "cell_type": "code",
   "execution_count": null,
   "id": "944a6487",
   "metadata": {},
   "outputs": [],
   "source": [
    "#def call_api(app_id, app_key, lista_food):\n",
    "    result_list = []\n",
    "    for ingre in lista_food: \n",
    "        b = requests.get(f'https://api.edamam.com/api/nutrition-data?app_id={app_id}&app_key={app_key}&nutrition-type=logging&ingr={ingre}').content\n",
    "        r = json.loads(b.decode())\n",
    "        result_list.append(r)\n",
    "    return result_list"
   ]
  },
  {
   "cell_type": "code",
   "execution_count": null,
   "id": "c4ce1245",
   "metadata": {},
   "outputs": [],
   "source": []
  },
  {
   "cell_type": "code",
   "execution_count": null,
   "id": "ce545275",
   "metadata": {},
   "outputs": [],
   "source": [
    "\n",
    "    \n"
   ]
  }
 ],
 "metadata": {
  "kernelspec": {
   "display_name": "ironhack",
   "language": "python",
   "name": "ironhack"
  },
  "language_info": {
   "codemirror_mode": {
    "name": "ipython",
    "version": 3
   },
   "file_extension": ".py",
   "mimetype": "text/x-python",
   "name": "python",
   "nbconvert_exporter": "python",
   "pygments_lexer": "ipython3",
   "version": "3.8.5"
  }
 },
 "nbformat": 4,
 "nbformat_minor": 5
}
