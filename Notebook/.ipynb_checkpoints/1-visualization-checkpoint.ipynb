{
 "cells": [
  {
   "cell_type": "code",
   "execution_count": 3,
   "id": "b352dd6e",
   "metadata": {},
   "outputs": [],
   "source": [
    "import sys\n",
    "sys.path.append(\"../\")"
   ]
  },
  {
   "cell_type": "code",
   "execution_count": 5,
   "id": "bfa10465",
   "metadata": {},
   "outputs": [],
   "source": [
    "import seaborn as sns\n",
    "import matplotlib.pyplot as plt\n",
    "import pandas as pd\n",
    "import sys\n",
    "import re\n",
    "import src.visualization as vs\n",
    "sns.set_context(\"poster\")\n",
    "sns.set(rc={\"figure.figsize\": (12.,6.)})\n",
    "sns.set_style(\"whitegrid\")"
   ]
  },
  {
   "cell_type": "code",
   "execution_count": 33,
   "id": "7a7dbbfb",
   "metadata": {},
   "outputs": [],
   "source": [
    "import plotly.express as px\n",
    "import plotly.graph_objects as go"
   ]
  },
  {
   "cell_type": "markdown",
   "id": "807ad83f",
   "metadata": {},
   "source": [
    "### Importo mi csv con el dataframe enriquecido"
   ]
  },
  {
   "cell_type": "code",
   "execution_count": 12,
   "id": "5949d9ce",
   "metadata": {},
   "outputs": [],
   "source": [
    "df = pd.read_csv(\"../data/Food_enriched.csv\", index_col =0) #para que no me figure la columna Unnamed: 0"
   ]
  },
  {
   "cell_type": "code",
   "execution_count": 13,
   "id": "a491e930",
   "metadata": {},
   "outputs": [
    {
     "data": {
      "text/html": [
       "<div>\n",
       "<style scoped>\n",
       "    .dataframe tbody tr th:only-of-type {\n",
       "        vertical-align: middle;\n",
       "    }\n",
       "\n",
       "    .dataframe tbody tr th {\n",
       "        vertical-align: top;\n",
       "    }\n",
       "\n",
       "    .dataframe thead th {\n",
       "        text-align: right;\n",
       "    }\n",
       "</style>\n",
       "<table border=\"1\" class=\"dataframe\">\n",
       "  <thead>\n",
       "    <tr style=\"text-align: right;\">\n",
       "      <th></th>\n",
       "      <th>Food</th>\n",
       "      <th>Serving</th>\n",
       "      <th>Calories</th>\n",
       "      <th>dietLabels</th>\n",
       "      <th>healthLabels</th>\n",
       "      <th>cautions</th>\n",
       "      <th>FAT.Total lipid</th>\n",
       "      <th>Total SUGAR(g)</th>\n",
       "      <th>Total PROTEIN(g)</th>\n",
       "      <th>Cholesterol(mg)</th>\n",
       "      <th>Calcium(mg)</th>\n",
       "      <th>VIT C(mg)</th>\n",
       "      <th>Whater quantity</th>\n",
       "      <th>Sugar added</th>\n",
       "    </tr>\n",
       "  </thead>\n",
       "  <tbody>\n",
       "    <tr>\n",
       "      <th>0</th>\n",
       "      <td>Artichoke</td>\n",
       "      <td>1 artichoke (128 g)</td>\n",
       "      <td>60 cal</td>\n",
       "      <td>['LOW_CARB', 'LOW_SODIUM']</td>\n",
       "      <td>['SUGAR_CONSCIOUS', 'LOW_POTASSIUM', 'KIDNEY_F...</td>\n",
       "      <td>['MILK']</td>\n",
       "      <td>11.603008</td>\n",
       "      <td>0.465376</td>\n",
       "      <td>1.736364</td>\n",
       "      <td>30.5300</td>\n",
       "      <td>28.618672</td>\n",
       "      <td>5.967</td>\n",
       "      <td>40.852088</td>\n",
       "      <td>NaN</td>\n",
       "    </tr>\n",
       "    <tr>\n",
       "      <th>1</th>\n",
       "      <td>Arugula</td>\n",
       "      <td>1 leaf (2 g)</td>\n",
       "      <td>1 cal</td>\n",
       "      <td>['LOW_SODIUM']</td>\n",
       "      <td>['FAT_FREE', 'LOW_FAT_ABS', 'SUGAR_CONSCIOUS',...</td>\n",
       "      <td>[]</td>\n",
       "      <td>0.660000</td>\n",
       "      <td>2.050000</td>\n",
       "      <td>2.580000</td>\n",
       "      <td>0.0000</td>\n",
       "      <td>160.000000</td>\n",
       "      <td>15.000</td>\n",
       "      <td>91.710000</td>\n",
       "      <td>NaN</td>\n",
       "    </tr>\n",
       "    <tr>\n",
       "      <th>2</th>\n",
       "      <td>Asparagus</td>\n",
       "      <td>1 spear (12 g)</td>\n",
       "      <td>2 cal</td>\n",
       "      <td>['LOW_CARB', 'LOW_SODIUM']</td>\n",
       "      <td>['SUGAR_CONSCIOUS', 'LOW_POTASSIUM', 'KIDNEY_F...</td>\n",
       "      <td>['GLUTEN', 'WHEAT', 'MILK']</td>\n",
       "      <td>8.657737</td>\n",
       "      <td>1.143483</td>\n",
       "      <td>3.810045</td>\n",
       "      <td>4.8212</td>\n",
       "      <td>99.257480</td>\n",
       "      <td>3.816</td>\n",
       "      <td>55.288140</td>\n",
       "      <td>NaN</td>\n",
       "    </tr>\n",
       "    <tr>\n",
       "      <th>3</th>\n",
       "      <td>Aubergine</td>\n",
       "      <td>1 aubergine (458 g)</td>\n",
       "      <td>115 cal</td>\n",
       "      <td>['LOW_FAT', 'LOW_SODIUM']</td>\n",
       "      <td>['FAT_FREE', 'LOW_FAT_ABS', 'SUGAR_CONSCIOUS',...</td>\n",
       "      <td>[]</td>\n",
       "      <td>0.227700</td>\n",
       "      <td>3.168000</td>\n",
       "      <td>0.821700</td>\n",
       "      <td>0.0000</td>\n",
       "      <td>5.940000</td>\n",
       "      <td>1.287</td>\n",
       "      <td>88.773300</td>\n",
       "      <td>NaN</td>\n",
       "    </tr>\n",
       "    <tr>\n",
       "      <th>4</th>\n",
       "      <td>Beetroot</td>\n",
       "      <td>1 beet (82 g)</td>\n",
       "      <td>35 cal</td>\n",
       "      <td>['LOW_FAT', 'LOW_SODIUM']</td>\n",
       "      <td>['FAT_FREE', 'LOW_FAT_ABS', 'KIDNEY_FRIENDLY',...</td>\n",
       "      <td>[]</td>\n",
       "      <td>0.170000</td>\n",
       "      <td>6.760000</td>\n",
       "      <td>1.610000</td>\n",
       "      <td>0.0000</td>\n",
       "      <td>16.000000</td>\n",
       "      <td>4.900</td>\n",
       "      <td>87.580000</td>\n",
       "      <td>NaN</td>\n",
       "    </tr>\n",
       "  </tbody>\n",
       "</table>\n",
       "</div>"
      ],
      "text/plain": [
       "        Food              Serving Calories                  dietLabels  \\\n",
       "0  Artichoke  1 artichoke (128 g)   60 cal  ['LOW_CARB', 'LOW_SODIUM']   \n",
       "1    Arugula         1 leaf (2 g)    1 cal              ['LOW_SODIUM']   \n",
       "2  Asparagus       1 spear (12 g)    2 cal  ['LOW_CARB', 'LOW_SODIUM']   \n",
       "3  Aubergine  1 aubergine (458 g)  115 cal   ['LOW_FAT', 'LOW_SODIUM']   \n",
       "4   Beetroot        1 beet (82 g)   35 cal   ['LOW_FAT', 'LOW_SODIUM']   \n",
       "\n",
       "                                        healthLabels  \\\n",
       "0  ['SUGAR_CONSCIOUS', 'LOW_POTASSIUM', 'KIDNEY_F...   \n",
       "1  ['FAT_FREE', 'LOW_FAT_ABS', 'SUGAR_CONSCIOUS',...   \n",
       "2  ['SUGAR_CONSCIOUS', 'LOW_POTASSIUM', 'KIDNEY_F...   \n",
       "3  ['FAT_FREE', 'LOW_FAT_ABS', 'SUGAR_CONSCIOUS',...   \n",
       "4  ['FAT_FREE', 'LOW_FAT_ABS', 'KIDNEY_FRIENDLY',...   \n",
       "\n",
       "                      cautions  FAT.Total lipid  Total SUGAR(g)  \\\n",
       "0                     ['MILK']        11.603008        0.465376   \n",
       "1                           []         0.660000        2.050000   \n",
       "2  ['GLUTEN', 'WHEAT', 'MILK']         8.657737        1.143483   \n",
       "3                           []         0.227700        3.168000   \n",
       "4                           []         0.170000        6.760000   \n",
       "\n",
       "   Total PROTEIN(g)  Cholesterol(mg)  Calcium(mg)  VIT C(mg)  Whater quantity  \\\n",
       "0          1.736364          30.5300    28.618672      5.967        40.852088   \n",
       "1          2.580000           0.0000   160.000000     15.000        91.710000   \n",
       "2          3.810045           4.8212    99.257480      3.816        55.288140   \n",
       "3          0.821700           0.0000     5.940000      1.287        88.773300   \n",
       "4          1.610000           0.0000    16.000000      4.900        87.580000   \n",
       "\n",
       "   Sugar added  \n",
       "0          NaN  \n",
       "1          NaN  \n",
       "2          NaN  \n",
       "3          NaN  \n",
       "4          NaN  "
      ]
     },
     "execution_count": 13,
     "metadata": {},
     "output_type": "execute_result"
    }
   ],
   "source": [
    "df.head()"
   ]
  },
  {
   "cell_type": "markdown",
   "id": "9c6da11e",
   "metadata": {},
   "source": [
    "### 1. DESCRIPCIÓN DE HIPÓTESIS"
   ]
  },
  {
   "cell_type": "markdown",
   "id": "8c1f3720",
   "metadata": {},
   "source": [
    "#### - 1.El brócoli tiene menos azúcar que la coliflor pero más que la lechuga\n",
    "#### - 2.La patata tiene menos proteina y grasa total que el boniato\n",
    "#### - 3.El brócoli tiene menos azúcar que la coliflor pero más que la lechuga"
   ]
  },
  {
   "cell_type": "markdown",
   "id": "0b04974a",
   "metadata": {},
   "source": [
    "### Hipótesis 1:"
   ]
  },
  {
   "cell_type": "markdown",
   "id": "7bdb9cf0",
   "metadata": {},
   "source": [
    "#### Creo un df solo para comparar los 3 alimentos de mi primera hipótesis"
   ]
  },
  {
   "cell_type": "code",
   "execution_count": 31,
   "id": "0687ae88",
   "metadata": {},
   "outputs": [],
   "source": [
    "df_food_comparative = df[(df[\"Food\"].isin([\"Broccoli\",\"Cauliflower\",\"Lettuce\"]))]"
   ]
  },
  {
   "cell_type": "code",
   "execution_count": 32,
   "id": "a065a57f",
   "metadata": {},
   "outputs": [
    {
     "data": {
      "text/html": [
       "<div>\n",
       "<style scoped>\n",
       "    .dataframe tbody tr th:only-of-type {\n",
       "        vertical-align: middle;\n",
       "    }\n",
       "\n",
       "    .dataframe tbody tr th {\n",
       "        vertical-align: top;\n",
       "    }\n",
       "\n",
       "    .dataframe thead th {\n",
       "        text-align: right;\n",
       "    }\n",
       "</style>\n",
       "<table border=\"1\" class=\"dataframe\">\n",
       "  <thead>\n",
       "    <tr style=\"text-align: right;\">\n",
       "      <th></th>\n",
       "      <th>Food</th>\n",
       "      <th>Serving</th>\n",
       "      <th>Calories</th>\n",
       "      <th>dietLabels</th>\n",
       "      <th>healthLabels</th>\n",
       "      <th>cautions</th>\n",
       "      <th>FAT.Total lipid</th>\n",
       "      <th>Total SUGAR(g)</th>\n",
       "      <th>Total PROTEIN(g)</th>\n",
       "      <th>Cholesterol(mg)</th>\n",
       "      <th>Calcium(mg)</th>\n",
       "      <th>VIT C(mg)</th>\n",
       "      <th>Whater quantity</th>\n",
       "      <th>Sugar added</th>\n",
       "    </tr>\n",
       "  </thead>\n",
       "  <tbody>\n",
       "    <tr>\n",
       "      <th>7</th>\n",
       "      <td>Broccoli</td>\n",
       "      <td>1 bunch (608 g)</td>\n",
       "      <td>207 cal</td>\n",
       "      <td>['LOW_FAT', 'LOW_SODIUM']</td>\n",
       "      <td>['FAT_FREE', 'LOW_FAT_ABS', 'SUGAR_CONSCIOUS',...</td>\n",
       "      <td>[]</td>\n",
       "      <td>0.5476</td>\n",
       "      <td>2.5160</td>\n",
       "      <td>4.1736</td>\n",
       "      <td>0.0</td>\n",
       "      <td>69.56</td>\n",
       "      <td>132.016</td>\n",
       "      <td>132.1640</td>\n",
       "      <td>NaN</td>\n",
       "    </tr>\n",
       "    <tr>\n",
       "      <th>12</th>\n",
       "      <td>Cauliflower</td>\n",
       "      <td>1 floweret (13 g)</td>\n",
       "      <td>3 cal</td>\n",
       "      <td>['LOW_FAT', 'LOW_SODIUM']</td>\n",
       "      <td>['FAT_FREE', 'LOW_FAT_ABS', 'SUGAR_CONSCIOUS',...</td>\n",
       "      <td>[]</td>\n",
       "      <td>0.1512</td>\n",
       "      <td>1.0314</td>\n",
       "      <td>1.0368</td>\n",
       "      <td>0.0</td>\n",
       "      <td>11.88</td>\n",
       "      <td>26.028</td>\n",
       "      <td>49.7178</td>\n",
       "      <td>NaN</td>\n",
       "    </tr>\n",
       "    <tr>\n",
       "      <th>39</th>\n",
       "      <td>Lettuce</td>\n",
       "      <td>1 head (600 g)</td>\n",
       "      <td>90 cal</td>\n",
       "      <td>['LOW_SODIUM']</td>\n",
       "      <td>['FAT_FREE', 'LOW_FAT_ABS', 'SUGAR_CONSCIOUS',...</td>\n",
       "      <td>[]</td>\n",
       "      <td>0.2200</td>\n",
       "      <td>0.9400</td>\n",
       "      <td>1.3500</td>\n",
       "      <td>0.0</td>\n",
       "      <td>35.00</td>\n",
       "      <td>3.700</td>\n",
       "      <td>95.6300</td>\n",
       "      <td>NaN</td>\n",
       "    </tr>\n",
       "  </tbody>\n",
       "</table>\n",
       "</div>"
      ],
      "text/plain": [
       "           Food            Serving Calories                 dietLabels  \\\n",
       "7      Broccoli    1 bunch (608 g)  207 cal  ['LOW_FAT', 'LOW_SODIUM']   \n",
       "12  Cauliflower  1 floweret (13 g)    3 cal  ['LOW_FAT', 'LOW_SODIUM']   \n",
       "39      Lettuce     1 head (600 g)   90 cal             ['LOW_SODIUM']   \n",
       "\n",
       "                                         healthLabels cautions  \\\n",
       "7   ['FAT_FREE', 'LOW_FAT_ABS', 'SUGAR_CONSCIOUS',...       []   \n",
       "12  ['FAT_FREE', 'LOW_FAT_ABS', 'SUGAR_CONSCIOUS',...       []   \n",
       "39  ['FAT_FREE', 'LOW_FAT_ABS', 'SUGAR_CONSCIOUS',...       []   \n",
       "\n",
       "    FAT.Total lipid  Total SUGAR(g)  Total PROTEIN(g)  Cholesterol(mg)  \\\n",
       "7            0.5476          2.5160            4.1736              0.0   \n",
       "12           0.1512          1.0314            1.0368              0.0   \n",
       "39           0.2200          0.9400            1.3500              0.0   \n",
       "\n",
       "    Calcium(mg)  VIT C(mg)  Whater quantity  Sugar added  \n",
       "7         69.56    132.016         132.1640          NaN  \n",
       "12        11.88     26.028          49.7178          NaN  \n",
       "39        35.00      3.700          95.6300          NaN  "
      ]
     },
     "execution_count": 32,
     "metadata": {},
     "output_type": "execute_result"
    }
   ],
   "source": [
    "df_food_comparative"
   ]
  },
  {
   "cell_type": "code",
   "execution_count": 41,
   "id": "95b795e6",
   "metadata": {},
   "outputs": [
    {
     "data": {
      "image/png": "[encoded data removed]",
      "text/plain": [
       "<Figure size 864x432 with 1 Axes>"
      ]
     },
     "metadata": {},
     "output_type": "display_data"
    }
   ],
   "source": [
    "sns.barplot(y=\"Total SUGAR(g)\", x = \"Food\", data = df_food_comparative,  palette=\"crest\");"
   ]
  },
  {
   "cell_type": "markdown",
   "id": "acba8a37",
   "metadata": {},
   "source": [
    "### Veo que se refuta mi hipótesis ya que el Brócoli tiene más azucar que la lechuga pero también tiene más azúcar que la coliflor."
   ]
  },
  {
   "cell_type": "markdown",
   "id": "7f0b1e41",
   "metadata": {},
   "source": [
    "### Hipótesis 2"
   ]
  },
  {
   "cell_type": "markdown",
   "id": "d72ec893",
   "metadata": {},
   "source": [
    "#### Creo un df solo para comparar los 2 alimentos de mi segunda hipótesis"
   ]
  },
  {
   "cell_type": "code",
   "execution_count": 56,
   "id": "6c4431ed",
   "metadata": {},
   "outputs": [],
   "source": [
    "df_food_comparative2 = df[(df[\"Food\"].isin([\"Potato\",\"Sweet Potato\"]))]"
   ]
  },
  {
   "cell_type": "code",
   "execution_count": 58,
   "id": "a15e3491",
   "metadata": {},
   "outputs": [
    {
     "data": {
      "image/png": "[encoded data removed]",
      "text/plain": [
       "<Figure size 1080x720 with 2 Axes>"
      ]
     },
     "metadata": {},
     "output_type": "display_data"
    }
   ],
   "source": [
    "fig, ax = plt.subplots(nrows=1, ncols=2, figsize=(15,10),sharey = True) #comparto la escala del eje\n",
    "sns.barplot(y=\"FAT.Total lipid\", x = \"Food\", data = df_food_comparative2,  palette=\"rocket_r\", ax=ax[0])\n",
    "sns.barplot(y=\"Total PROTEIN(g)\", x = \"Food\", data = df_food_comparative2,  palette=\"rocket_r\", ax=ax[1]);"
   ]
  },
  {
   "cell_type": "markdown",
   "id": "6fef58ce",
   "metadata": {},
   "source": [
    "### Veo que se cumple mi hipótesis ya que la patata tiene menos proteínas y menos grasas totales que el boniato."
   ]
  },
  {
   "cell_type": "code",
   "execution_count": 62,
   "id": "45573315",
   "metadata": {},
   "outputs": [],
   "source": [
    "df_food_comparative3 = df[(df[\"Food\"].isin([\"Taco\",\"BBQ Chicken Pizza\",\"Burger King Whopper\",\"Hot Dog\",\"Lasagna\",\"McRib\",\"Nachos with Cheese\",\"Whopper\"]))]"
   ]
  },
  {
   "cell_type": "code",
   "execution_count": 63,
   "id": "f91d8210",
   "metadata": {},
   "outputs": [
    {
     "data": {
      "text/plain": [
       "<AxesSubplot:xlabel='Calories', ylabel='Count'>"
      ]
     },
     "execution_count": 63,
     "metadata": {},
     "output_type": "execute_result"
    },
    {
     "data": {
      "image/png": "[encoded data removed]",
      "text/plain": [
       "<Figure size 864x432 with 1 Axes>"
      ]
     },
     "metadata": {},
     "output_type": "display_data"
    }
   ],
   "source": [
    "sns.histplot(x=df_food_comparative3.Calories)"
   ]
  },
  {
   "cell_type": "code",
   "execution_count": 64,
   "id": "2a6e777f",
   "metadata": {},
   "outputs": [
    {
     "data": {
      "text/plain": [
       "<AxesSubplot:>"
      ]
     },
     "execution_count": 64,
     "metadata": {},
     "output_type": "execute_result"
    },
    {
     "data": {
      "image/png": "[encoded data removed]",
      "text/plain": [
       "<Figure size 864x432 with 1 Axes>"
      ]
     },
     "metadata": {},
     "output_type": "display_data"
    }
   ],
   "source": [
    "df_food_comparative3.plot(kind=\"bar\")"
   ]
  },
  {
   "cell_type": "code",
   "execution_count": null,
   "id": "511455df",
   "metadata": {},
   "outputs": [],
   "source": []
  }
 ],
 "metadata": {
  "kernelspec": {
   "display_name": "ironhack",
   "language": "python",
   "name": "ironhack"
  },
  "language_info": {
   "codemirror_mode": {
    "name": "ipython",
    "version": 3
   },
   "file_extension": ".py",
   "mimetype": "text/x-python",
   "name": "python",
   "nbconvert_exporter": "python",
   "pygments_lexer": "ipython3",
   "version": "3.8.5"
  }
 },
 "nbformat": 4,
 "nbformat_minor": 5
}
